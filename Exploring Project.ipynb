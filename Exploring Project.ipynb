{
 "cells": [
  {
   "cell_type": "markdown",
   "source": [
    "# Exploring Project"
   ],
   "metadata": {
    "collapsed": false,
    "pycharm": {
     "name": "#%% md\n"
    }
   }
  },
  {
   "cell_type": "markdown",
   "source": [
    "#### library import"
   ],
   "metadata": {
    "collapsed": false,
    "pycharm": {
     "name": "#%% md\n"
    }
   }
  },
  {
   "cell_type": "code",
   "execution_count": 2,
   "outputs": [],
   "source": [
    "import sys\n",
    "sys.path.append(r'.\\src\\utils')\n",
    "sys.path.append(r'.\\configure')\n",
    "\n",
    "from sqlquerytools import SqlQueryResult\n",
    "from configure import conf\n",
    "\n",
    "# import libraries\n",
    "import pyodbc\n",
    "import pandas as pd\n",
    "import numpy as np\n",
    "\n",
    "import seaborn as sns\n",
    "import matplotlib.pyplot as plt\n",
    "\n",
    "from IPython.core.display_functions import display"
   ],
   "metadata": {
    "collapsed": false,
    "pycharm": {
     "name": "#%%\n"
    }
   }
  },
  {
   "cell_type": "markdown",
   "source": [
    "#### Connection to the server"
   ],
   "metadata": {
    "collapsed": false
   }
  },
  {
   "cell_type": "code",
   "execution_count": 3,
   "outputs": [
    {
     "name": "stdout",
     "output_type": "stream",
     "text": [
      "*** Connecting to SQL Server... ***\n",
      "*** Connection Established. ***\n"
     ]
    }
   ],
   "source": [
    "# Establishing connection to SQL database\n",
    "print('*** Connecting to SQL Server... ***')\n",
    "conn = pyodbc.connect(str(conf.configs['db']))\n",
    "print('*** Connection Established. ***')"
   ],
   "metadata": {
    "collapsed": false,
    "pycharm": {
     "name": "#%%\n"
    }
   }
  },
  {
   "cell_type": "markdown",
   "source": [
    "#### Query the databases"
   ],
   "metadata": {
    "collapsed": false,
    "pycharm": {
     "name": "#%% md\n"
    }
   }
  },
  {
   "cell_type": "code",
   "execution_count": 3,
   "outputs": [],
   "source": [
    "# SQL Query that will be sent, response is the table of interest\n",
    "query_str = '''\n",
    "select b.BetID,\n",
    "b.ClientID,\n",
    "b.BetDateTime,\n",
    "b.TotalStake,\n",
    "LCategoryClass.CategoryClass\n",
    "\n",
    "\n",
    "from dbo.Bet as b\n",
    "\n",
    "left join dbo.Client as c on b.ClientID=c.ClientID\n",
    "left join dbo.LVerification as verify on c.VerificationID=verify.VerificationID\n",
    "\n",
    "left join dbo.BetDetail on dbo.BetDetail.BetID=b.BetID\n",
    "left join dbo.[Event] on dbo.BetDetail.EventID=dbo.[Event].EventID\n",
    "\n",
    "left join dbo.LEventClass on dbo.[Event].EventClassID=dbo.LEventClass.EventClassID\n",
    "left join dbo.LMasterEventClass on dbo.LEventClass.MasterEventClassID=dbo.LMasterEventClass.MasterEventClassID\n",
    "left join dbo.LCategoryClass on dbo.LMasterEventClass.CategoryClassID=dbo.LCategoryClass.CategoryClassID\n",
    "\n",
    "where c.IsTest=0 and c.IsBookmaker=0 and verify.IsVerified=1 and b.FreeBetID=0 and dbo.[Event].EventTypeID=1 and dbo.LCategoryClass.CategoryClass LIKE '%NSW%';\n",
    "'''"
   ],
   "metadata": {
    "collapsed": false,
    "pycharm": {
     "name": "#%%\n"
    }
   }
  },
  {
   "cell_type": "code",
   "execution_count": 4,
   "outputs": [
    {
     "name": "stderr",
     "output_type": "stream",
     "text": [
      "c:\\users\\zhaowang\\onedrive - irpsx pty limited\\desktop\\bettube_project_0\\venv\\lib\\site-packages\\pandas\\io\\sql.py:761: UserWarning: pandas only support SQLAlchemy connectable(engine/connection) ordatabase string URI or sqlite3 DBAPI2 connectionother DBAPI2 objects are not tested, please consider using SQLAlchemy\n",
      "  warnings.warn(\n"
     ]
    },
    {
     "data": {
      "text/plain": "           BetID  ClientID             BetDateTime  TotalStake  \\\n0          22895      6131 2016-09-30 01:19:56.680        50.0   \n1          23414      6131 2016-09-30 04:39:24.457        50.0   \n2          25168      6131 2016-09-30 11:07:47.940        20.0   \n3          25249      6131 2016-09-30 11:19:52.720        20.0   \n4          28912      6131 2016-10-01 05:58:47.560       200.0   \n...          ...       ...                     ...         ...   \n1415848  5403612     58763 2019-09-20 06:00:23.713         7.0   \n1415849  5363509     58804 2019-09-14 02:09:06.937        50.0   \n1415850  5403901     58820 2019-09-20 06:27:24.090        25.0   \n1415851  5410837     58829 2019-09-21 03:13:31.317         5.0   \n1415852  5404196     58840 2019-09-20 06:40:56.737        20.0   \n\n                    CategoryClass  \n0          NSW Metro Thoroughbred  \n1        NSW Country Thoroughbred  \n2          NSW Metro Thoroughbred  \n3          NSW Metro Thoroughbred  \n4          NSW Metro Thoroughbred  \n...                           ...  \n1415848  NSW Country Thoroughbred  \n1415849    NSW Metro Thoroughbred  \n1415850  NSW Country Thoroughbred  \n1415851  NSW Country Thoroughbred  \n1415852  NSW Country Thoroughbred  \n\n[1415853 rows x 5 columns]",
      "text/html": "<div>\n<style scoped>\n    .dataframe tbody tr th:only-of-type {\n        vertical-align: middle;\n    }\n\n    .dataframe tbody tr th {\n        vertical-align: top;\n    }\n\n    .dataframe thead th {\n        text-align: right;\n    }\n</style>\n<table border=\"1\" class=\"dataframe\">\n  <thead>\n    <tr style=\"text-align: right;\">\n      <th></th>\n      <th>BetID</th>\n      <th>ClientID</th>\n      <th>BetDateTime</th>\n      <th>TotalStake</th>\n      <th>CategoryClass</th>\n    </tr>\n  </thead>\n  <tbody>\n    <tr>\n      <th>0</th>\n      <td>22895</td>\n      <td>6131</td>\n      <td>2016-09-30 01:19:56.680</td>\n      <td>50.0</td>\n      <td>NSW Metro Thoroughbred</td>\n    </tr>\n    <tr>\n      <th>1</th>\n      <td>23414</td>\n      <td>6131</td>\n      <td>2016-09-30 04:39:24.457</td>\n      <td>50.0</td>\n      <td>NSW Country Thoroughbred</td>\n    </tr>\n    <tr>\n      <th>2</th>\n      <td>25168</td>\n      <td>6131</td>\n      <td>2016-09-30 11:07:47.940</td>\n      <td>20.0</td>\n      <td>NSW Metro Thoroughbred</td>\n    </tr>\n    <tr>\n      <th>3</th>\n      <td>25249</td>\n      <td>6131</td>\n      <td>2016-09-30 11:19:52.720</td>\n      <td>20.0</td>\n      <td>NSW Metro Thoroughbred</td>\n    </tr>\n    <tr>\n      <th>4</th>\n      <td>28912</td>\n      <td>6131</td>\n      <td>2016-10-01 05:58:47.560</td>\n      <td>200.0</td>\n      <td>NSW Metro Thoroughbred</td>\n    </tr>\n    <tr>\n      <th>...</th>\n      <td>...</td>\n      <td>...</td>\n      <td>...</td>\n      <td>...</td>\n      <td>...</td>\n    </tr>\n    <tr>\n      <th>1415848</th>\n      <td>5403612</td>\n      <td>58763</td>\n      <td>2019-09-20 06:00:23.713</td>\n      <td>7.0</td>\n      <td>NSW Country Thoroughbred</td>\n    </tr>\n    <tr>\n      <th>1415849</th>\n      <td>5363509</td>\n      <td>58804</td>\n      <td>2019-09-14 02:09:06.937</td>\n      <td>50.0</td>\n      <td>NSW Metro Thoroughbred</td>\n    </tr>\n    <tr>\n      <th>1415850</th>\n      <td>5403901</td>\n      <td>58820</td>\n      <td>2019-09-20 06:27:24.090</td>\n      <td>25.0</td>\n      <td>NSW Country Thoroughbred</td>\n    </tr>\n    <tr>\n      <th>1415851</th>\n      <td>5410837</td>\n      <td>58829</td>\n      <td>2019-09-21 03:13:31.317</td>\n      <td>5.0</td>\n      <td>NSW Country Thoroughbred</td>\n    </tr>\n    <tr>\n      <th>1415852</th>\n      <td>5404196</td>\n      <td>58840</td>\n      <td>2019-09-20 06:40:56.737</td>\n      <td>20.0</td>\n      <td>NSW Country Thoroughbred</td>\n    </tr>\n  </tbody>\n</table>\n<p>1415853 rows × 5 columns</p>\n</div>"
     },
     "metadata": {},
     "output_type": "display_data"
    }
   ],
   "source": [
    "# Send the SQL Query, and record response as a Pandas dataframe.\n",
    "sql_query = pd.read_sql_query(query_str, conn)\n",
    "df_raw = pd.DataFrame(sql_query)\n",
    "\n",
    "pd.set_option(\"display.max_columns\", 8)\n",
    "pd.set_option(\"display.max_rows\", 30)\n",
    "display(df_raw)"
   ],
   "metadata": {
    "collapsed": false,
    "pycharm": {
     "name": "#%%\n"
    }
   }
  },
  {
   "cell_type": "code",
   "execution_count": 5,
   "outputs": [
    {
     "data": {
      "text/plain": "      BetID  ClientID             BetDateTime  TotalStake  \\\n0     22895      6131 2016-09-30 01:19:56.680        50.0   \n1     23414      6131 2016-09-30 04:39:24.457        50.0   \n2     25168      6131 2016-09-30 11:07:47.940        20.0   \n3     25249      6131 2016-09-30 11:19:52.720        20.0   \n4     28912      6131 2016-10-01 05:58:47.560       200.0   \n..      ...       ...                     ...         ...   \n95  1166230      6131 2017-09-06 05:06:13.190        50.0   \n96  1168981      6131 2017-09-07 02:58:52.480        50.0   \n97  1169483      6131 2017-09-07 04:35:25.017        50.0   \n98  1169831      6131 2017-09-07 05:23:37.757        50.0   \n99  1169924      6131 2017-09-07 05:37:51.727        50.0   \n\n               CategoryClass  \n0     NSW Metro Thoroughbred  \n1   NSW Country Thoroughbred  \n2     NSW Metro Thoroughbred  \n3     NSW Metro Thoroughbred  \n4     NSW Metro Thoroughbred  \n..                       ...  \n95    NSW Metro Thoroughbred  \n96  NSW Country Thoroughbred  \n97  NSW Country Thoroughbred  \n98  NSW Country Thoroughbred  \n99  NSW Country Thoroughbred  \n\n[100 rows x 5 columns]",
      "text/html": "<div>\n<style scoped>\n    .dataframe tbody tr th:only-of-type {\n        vertical-align: middle;\n    }\n\n    .dataframe tbody tr th {\n        vertical-align: top;\n    }\n\n    .dataframe thead th {\n        text-align: right;\n    }\n</style>\n<table border=\"1\" class=\"dataframe\">\n  <thead>\n    <tr style=\"text-align: right;\">\n      <th></th>\n      <th>BetID</th>\n      <th>ClientID</th>\n      <th>BetDateTime</th>\n      <th>TotalStake</th>\n      <th>CategoryClass</th>\n    </tr>\n  </thead>\n  <tbody>\n    <tr>\n      <th>0</th>\n      <td>22895</td>\n      <td>6131</td>\n      <td>2016-09-30 01:19:56.680</td>\n      <td>50.0</td>\n      <td>NSW Metro Thoroughbred</td>\n    </tr>\n    <tr>\n      <th>1</th>\n      <td>23414</td>\n      <td>6131</td>\n      <td>2016-09-30 04:39:24.457</td>\n      <td>50.0</td>\n      <td>NSW Country Thoroughbred</td>\n    </tr>\n    <tr>\n      <th>2</th>\n      <td>25168</td>\n      <td>6131</td>\n      <td>2016-09-30 11:07:47.940</td>\n      <td>20.0</td>\n      <td>NSW Metro Thoroughbred</td>\n    </tr>\n    <tr>\n      <th>3</th>\n      <td>25249</td>\n      <td>6131</td>\n      <td>2016-09-30 11:19:52.720</td>\n      <td>20.0</td>\n      <td>NSW Metro Thoroughbred</td>\n    </tr>\n    <tr>\n      <th>4</th>\n      <td>28912</td>\n      <td>6131</td>\n      <td>2016-10-01 05:58:47.560</td>\n      <td>200.0</td>\n      <td>NSW Metro Thoroughbred</td>\n    </tr>\n    <tr>\n      <th>...</th>\n      <td>...</td>\n      <td>...</td>\n      <td>...</td>\n      <td>...</td>\n      <td>...</td>\n    </tr>\n    <tr>\n      <th>95</th>\n      <td>1166230</td>\n      <td>6131</td>\n      <td>2017-09-06 05:06:13.190</td>\n      <td>50.0</td>\n      <td>NSW Metro Thoroughbred</td>\n    </tr>\n    <tr>\n      <th>96</th>\n      <td>1168981</td>\n      <td>6131</td>\n      <td>2017-09-07 02:58:52.480</td>\n      <td>50.0</td>\n      <td>NSW Country Thoroughbred</td>\n    </tr>\n    <tr>\n      <th>97</th>\n      <td>1169483</td>\n      <td>6131</td>\n      <td>2017-09-07 04:35:25.017</td>\n      <td>50.0</td>\n      <td>NSW Country Thoroughbred</td>\n    </tr>\n    <tr>\n      <th>98</th>\n      <td>1169831</td>\n      <td>6131</td>\n      <td>2017-09-07 05:23:37.757</td>\n      <td>50.0</td>\n      <td>NSW Country Thoroughbred</td>\n    </tr>\n    <tr>\n      <th>99</th>\n      <td>1169924</td>\n      <td>6131</td>\n      <td>2017-09-07 05:37:51.727</td>\n      <td>50.0</td>\n      <td>NSW Country Thoroughbred</td>\n    </tr>\n  </tbody>\n</table>\n<p>100 rows × 5 columns</p>\n</div>"
     },
     "execution_count": 5,
     "metadata": {},
     "output_type": "execute_result"
    }
   ],
   "source": [
    "df_raw.head(100)"
   ],
   "metadata": {
    "collapsed": false,
    "pycharm": {
     "name": "#%%\n"
    }
   }
  },
  {
   "cell_type": "code",
   "execution_count": 6,
   "outputs": [
    {
     "data": {
      "text/plain": "           BetID  ClientID             BetDateTime  BetYear  TotalStake  \\\n0          22895      6131 2016-09-30 01:19:56.680     2016        50.0   \n1          23414      6131 2016-09-30 04:39:24.457     2016        50.0   \n2          25168      6131 2016-09-30 11:07:47.940     2016        20.0   \n3          25249      6131 2016-09-30 11:19:52.720     2016        20.0   \n4          28912      6131 2016-10-01 05:58:47.560     2016       200.0   \n...          ...       ...                     ...      ...         ...   \n1415848  5403612     58763 2019-09-20 06:00:23.713     2019         7.0   \n1415849  5363509     58804 2019-09-14 02:09:06.937     2019        50.0   \n1415850  5403901     58820 2019-09-20 06:27:24.090     2019        25.0   \n1415851  5410837     58829 2019-09-21 03:13:31.317     2019         5.0   \n1415852  5404196     58840 2019-09-20 06:40:56.737     2019        20.0   \n\n                    CategoryClass  \n0          NSW Metro Thoroughbred  \n1        NSW Country Thoroughbred  \n2          NSW Metro Thoroughbred  \n3          NSW Metro Thoroughbred  \n4          NSW Metro Thoroughbred  \n...                           ...  \n1415848  NSW Country Thoroughbred  \n1415849    NSW Metro Thoroughbred  \n1415850  NSW Country Thoroughbred  \n1415851  NSW Country Thoroughbred  \n1415852  NSW Country Thoroughbred  \n\n[1196578 rows x 6 columns]",
      "text/html": "<div>\n<style scoped>\n    .dataframe tbody tr th:only-of-type {\n        vertical-align: middle;\n    }\n\n    .dataframe tbody tr th {\n        vertical-align: top;\n    }\n\n    .dataframe thead th {\n        text-align: right;\n    }\n</style>\n<table border=\"1\" class=\"dataframe\">\n  <thead>\n    <tr style=\"text-align: right;\">\n      <th></th>\n      <th>BetID</th>\n      <th>ClientID</th>\n      <th>BetDateTime</th>\n      <th>BetYear</th>\n      <th>TotalStake</th>\n      <th>CategoryClass</th>\n    </tr>\n  </thead>\n  <tbody>\n    <tr>\n      <th>0</th>\n      <td>22895</td>\n      <td>6131</td>\n      <td>2016-09-30 01:19:56.680</td>\n      <td>2016</td>\n      <td>50.0</td>\n      <td>NSW Metro Thoroughbred</td>\n    </tr>\n    <tr>\n      <th>1</th>\n      <td>23414</td>\n      <td>6131</td>\n      <td>2016-09-30 04:39:24.457</td>\n      <td>2016</td>\n      <td>50.0</td>\n      <td>NSW Country Thoroughbred</td>\n    </tr>\n    <tr>\n      <th>2</th>\n      <td>25168</td>\n      <td>6131</td>\n      <td>2016-09-30 11:07:47.940</td>\n      <td>2016</td>\n      <td>20.0</td>\n      <td>NSW Metro Thoroughbred</td>\n    </tr>\n    <tr>\n      <th>3</th>\n      <td>25249</td>\n      <td>6131</td>\n      <td>2016-09-30 11:19:52.720</td>\n      <td>2016</td>\n      <td>20.0</td>\n      <td>NSW Metro Thoroughbred</td>\n    </tr>\n    <tr>\n      <th>4</th>\n      <td>28912</td>\n      <td>6131</td>\n      <td>2016-10-01 05:58:47.560</td>\n      <td>2016</td>\n      <td>200.0</td>\n      <td>NSW Metro Thoroughbred</td>\n    </tr>\n    <tr>\n      <th>...</th>\n      <td>...</td>\n      <td>...</td>\n      <td>...</td>\n      <td>...</td>\n      <td>...</td>\n      <td>...</td>\n    </tr>\n    <tr>\n      <th>1415848</th>\n      <td>5403612</td>\n      <td>58763</td>\n      <td>2019-09-20 06:00:23.713</td>\n      <td>2019</td>\n      <td>7.0</td>\n      <td>NSW Country Thoroughbred</td>\n    </tr>\n    <tr>\n      <th>1415849</th>\n      <td>5363509</td>\n      <td>58804</td>\n      <td>2019-09-14 02:09:06.937</td>\n      <td>2019</td>\n      <td>50.0</td>\n      <td>NSW Metro Thoroughbred</td>\n    </tr>\n    <tr>\n      <th>1415850</th>\n      <td>5403901</td>\n      <td>58820</td>\n      <td>2019-09-20 06:27:24.090</td>\n      <td>2019</td>\n      <td>25.0</td>\n      <td>NSW Country Thoroughbred</td>\n    </tr>\n    <tr>\n      <th>1415851</th>\n      <td>5410837</td>\n      <td>58829</td>\n      <td>2019-09-21 03:13:31.317</td>\n      <td>2019</td>\n      <td>5.0</td>\n      <td>NSW Country Thoroughbred</td>\n    </tr>\n    <tr>\n      <th>1415852</th>\n      <td>5404196</td>\n      <td>58840</td>\n      <td>2019-09-20 06:40:56.737</td>\n      <td>2019</td>\n      <td>20.0</td>\n      <td>NSW Country Thoroughbred</td>\n    </tr>\n  </tbody>\n</table>\n<p>1196578 rows × 6 columns</p>\n</div>"
     },
     "metadata": {},
     "output_type": "display_data"
    }
   ],
   "source": [
    "df = df_raw.copy()\n",
    "\n",
    "# Create a BetYear column\n",
    "df.insert(3, \"BetYear\", df['BetDateTime'].dt.year, True)\n",
    "\n",
    "# Remove duplicates due to multi's/left-joining(?)\n",
    "df = df.drop_duplicates(['ClientID', 'BetDateTime', 'BetID', 'TotalStake'])\n",
    "\n",
    "# Remove stakes with non-positive values\n",
    "df = df[df[\"TotalStake\"] > 0]\n",
    "\n",
    "display(df)"
   ],
   "metadata": {
    "collapsed": false,
    "pycharm": {
     "name": "#%%\n"
    }
   }
  },
  {
   "cell_type": "code",
   "execution_count": 7,
   "outputs": [
    {
     "name": "stdout",
     "output_type": "stream",
     "text": [
      "NSW Thoroughbred (Racing) Turnover (2019): $ 25552310.12\n",
      "Estimated (25%): $ 6388077.53\n"
     ]
    },
    {
     "data": {
      "text/plain": "BetYear\n2016    6.883862e+06\n2017    3.507139e+07\n2018    2.486363e+07\n2019    2.555231e+07\n2020    1.462236e+07\nName: TotalStake, dtype: float64"
     },
     "metadata": {},
     "output_type": "display_data"
    }
   ],
   "source": [
    "# Determine the TotalStake over 2019\n",
    "\n",
    "df_2019 = df.copy()\n",
    "# take only bets in 2019\n",
    "df_2019 = df_2019[df_2019[\"BetYear\"] == 2019]\n",
    "\n",
    "# Sum up the total stake amounts\n",
    "totalStaked = df_2019[\"TotalStake\"].sum()\n",
    "print(\"NSW Thoroughbred (Racing) Turnover (2019): $\", round(totalStaked, 2))\n",
    "print(\"Estimated (25%): $\", round(totalStaked*0.25, 2))\n",
    "\n",
    "\n",
    "# Total staked by year\n",
    "df_temp = df.copy().groupby([\"BetYear\"])[\"TotalStake\"].sum()\n",
    "display(df_temp)"
   ],
   "metadata": {
    "collapsed": false,
    "pycharm": {
     "name": "#%%\n"
    }
   }
  },
  {
   "cell_type": "markdown",
   "source": [
    "## Explore the database"
   ],
   "metadata": {
    "collapsed": false,
    "pycharm": {
     "name": "#%% md\n"
    }
   }
  },
  {
   "cell_type": "code",
   "execution_count": 48,
   "outputs": [
    {
     "name": "stderr",
     "output_type": "stream",
     "text": [
      "c:\\users\\zhaowang\\onedrive - irpsx pty limited\\desktop\\bettube_project_0\\venv\\lib\\site-packages\\pandas\\io\\sql.py:761: UserWarning: pandas only support SQLAlchemy connectable(engine/connection) ordatabase string URI or sqlite3 DBAPI2 connectionother DBAPI2 objects are not tested, please consider using SQLAlchemy\n",
      "  warnings.warn(\n",
      "C:\\Users\\ZhaoWang\\AppData\\Local\\Temp\\ipykernel_17532\\3327387670.py:18: FutureWarning: null_counts is deprecated. Use show_counts instead\n",
      "  df_raw_test.info(True,null_counts=True)\n"
     ]
    },
    {
     "name": "stdout",
     "output_type": "stream",
     "text": [
      "<class 'pandas.core.frame.DataFrame'>\n",
      "RangeIndex: 100 entries, 0 to 99\n",
      "Data columns (total 36 columns):\n",
      " #   Column                       Non-Null Count  Dtype         \n",
      "---  ------                       --------------  -----         \n",
      " 0   ArchivePartition             100 non-null    int64         \n",
      " 1   ClientID                     100 non-null    int64         \n",
      " 2   OrgID                        100 non-null    int64         \n",
      " 3   AccountNumber                100 non-null    object        \n",
      " 4   Gender                       100 non-null    object        \n",
      " 5   SignupDate                   100 non-null    datetime64[ns]\n",
      " 6   SignupChannelID              100 non-null    int64         \n",
      " 7   IsCreditClient               100 non-null    bool          \n",
      " 8   ClientProfileID              100 non-null    int64         \n",
      " 9   BetInterceptRuleID           100 non-null    int64         \n",
      " 10  IsTest                       100 non-null    bool          \n",
      " 11  IsBookmaker                  100 non-null    bool          \n",
      " 12  PreferredDepositMethodID     0 non-null      object        \n",
      " 13  PreferredWithdrawalMethodID  0 non-null      object        \n",
      " 14  CreditLimit                  89 non-null     float64       \n",
      " 15  LedgerID                     100 non-null    int64         \n",
      " 16  CampaignSignedUpID           98 non-null     float64       \n",
      " 17  AffiliateID                  40 non-null     float64       \n",
      " 18  StatementFrequencyID         100 non-null    int64         \n",
      " 19  VerificationID               100 non-null    int64         \n",
      " 20  ResidentialAddress1          100 non-null    object        \n",
      " 21  ResidentialAddress2          4 non-null      object        \n",
      " 22  ResidentialSuburb            100 non-null    object        \n",
      " 23  ResidentialStateCode         100 non-null    object        \n",
      " 24  ResidentialPostCode          100 non-null    object        \n",
      " 25  ResidentialCountryCode       100 non-null    object        \n",
      " 26  LastPasswordChanged          40 non-null     datetime64[ns]\n",
      " 27  ClientHandlerID              100 non-null    int64         \n",
      " 28  ApproximateNetPosition       63 non-null     float64       \n",
      " 29  LoginFailureCounter          100 non-null    int64         \n",
      " 30  RegionID                     100 non-null    int64         \n",
      " 31  AnniversaryDate              94 non-null     datetime64[ns]\n",
      " 32  AffiliateToken               1 non-null      object        \n",
      " 33  DOBYear                      100 non-null    int64         \n",
      " 34  DOBMonth                     100 non-null    int64         \n",
      " 35  EmailDomain                  100 non-null    object        \n",
      "dtypes: bool(3), datetime64[ns](3), float64(4), int64(14), object(12)\n",
      "memory usage: 26.2+ KB\n"
     ]
    }
   ],
   "source": [
    "query = '''\n",
    "SELECT TOP(100) *\n",
    "FROM CLIENT AS C WITH (NOLOCK)\n",
    "WHERE C.ARCHIVEPARTITION IN (0,1)\n",
    "OPTION (MAXDOP 1)\n",
    "\n",
    "'''\n",
    "\n",
    "\n",
    "# Send the SQL Query, and record response as a Pandas dataframe.\n",
    "test_sql_query = pd.read_sql_query(query, conn)\n",
    "df_raw_test = pd.DataFrame(test_sql_query)\n",
    "\n",
    "pd.set_option('display.max_columns', None)\n",
    "pd.set_option('display.max_rows', None)\n",
    "df_raw_test.head(100)\n",
    "\n",
    "df_raw_test.info(True,null_counts=True)"
   ],
   "metadata": {
    "collapsed": false,
    "pycharm": {
     "name": "#%%\n"
    }
   }
  },
  {
   "cell_type": "code",
   "execution_count": 55,
   "outputs": [
    {
     "data": {
      "text/plain": "   CLIENTID  Active  First Name  Last Name  EMAIL  Mobile  \\\n0        10     NaN         NaN        NaN    NaN     NaN   \n1        18     NaN         NaN        NaN    NaN     NaN   \n2        20     NaN         NaN        NaN    NaN     NaN   \n3      6127     NaN         NaN        NaN    NaN     NaN   \n\n                              SURVEY_NAME  \\\n0                              RPX survey   \n1                             LOOT survey   \n2                     Account open survey   \n3  Melbourne Cup Questionnaire 03.11.2021   \n\n                                            QUESTION  \\\n0   Just quickly, where did you first hear about us?   \n1   Just quickly, where did you first hear about us?   \n2  Noted, Thank You â˜º Also, can we  ask how you...   \n3  Thank you! Now first things first, we'd love t...   \n\n                           ANSWER     SUBMISSION_TIME  \n0                through a friend 2021-11-24 23:05:56  \n1                through a friend 2021-11-28 02:26:24  \n2                through a friend 2022-01-25 17:39:02  \n3  through a friend ðŸ‘¯â€â™‚ï¸ 2021-11-03 00:32:04  ",
      "text/html": "<div>\n<style scoped>\n    .dataframe tbody tr th:only-of-type {\n        vertical-align: middle;\n    }\n\n    .dataframe tbody tr th {\n        vertical-align: top;\n    }\n\n    .dataframe thead th {\n        text-align: right;\n    }\n</style>\n<table border=\"1\" class=\"dataframe\">\n  <thead>\n    <tr style=\"text-align: right;\">\n      <th></th>\n      <th>CLIENTID</th>\n      <th>Active</th>\n      <th>First Name</th>\n      <th>Last Name</th>\n      <th>EMAIL</th>\n      <th>Mobile</th>\n      <th>SURVEY_NAME</th>\n      <th>QUESTION</th>\n      <th>ANSWER</th>\n      <th>SUBMISSION_TIME</th>\n    </tr>\n  </thead>\n  <tbody>\n    <tr>\n      <th>0</th>\n      <td>10</td>\n      <td>NaN</td>\n      <td>NaN</td>\n      <td>NaN</td>\n      <td>NaN</td>\n      <td>NaN</td>\n      <td>RPX survey</td>\n      <td>Just quickly, where did you first hear about us?</td>\n      <td>through a friend</td>\n      <td>2021-11-24 23:05:56</td>\n    </tr>\n    <tr>\n      <th>1</th>\n      <td>18</td>\n      <td>NaN</td>\n      <td>NaN</td>\n      <td>NaN</td>\n      <td>NaN</td>\n      <td>NaN</td>\n      <td>LOOT survey</td>\n      <td>Just quickly, where did you first hear about us?</td>\n      <td>through a friend</td>\n      <td>2021-11-28 02:26:24</td>\n    </tr>\n    <tr>\n      <th>2</th>\n      <td>20</td>\n      <td>NaN</td>\n      <td>NaN</td>\n      <td>NaN</td>\n      <td>NaN</td>\n      <td>NaN</td>\n      <td>Account open survey</td>\n      <td>Noted, Thank You â˜º Also, can we  ask how you...</td>\n      <td>through a friend</td>\n      <td>2022-01-25 17:39:02</td>\n    </tr>\n    <tr>\n      <th>3</th>\n      <td>6127</td>\n      <td>NaN</td>\n      <td>NaN</td>\n      <td>NaN</td>\n      <td>NaN</td>\n      <td>NaN</td>\n      <td>Melbourne Cup Questionnaire 03.11.2021</td>\n      <td>Thank you! Now first things first, we'd love t...</td>\n      <td>through a friend ðŸ‘¯â€â™‚ï¸</td>\n      <td>2021-11-03 00:32:04</td>\n    </tr>\n  </tbody>\n</table>\n</div>"
     },
     "metadata": {},
     "output_type": "display_data"
    }
   ],
   "source": [
    "# Read the excel.\n",
    "file_name = r'.\\data\\test.xlsx'\n",
    "ana = pd.read_excel(file_name, header=0)\n",
    "display(ana)\n",
    "\n",
    "# rename the column names\n",
    "ana.rename(columns={'CLIENTID':'ClientID'},inplace=True)\n",
    "\n",
    "# mutil select dataset columns.\n",
    "info_data = df_raw_test[['ClientID','EmailDomain','DOBMonth', 'DOBYear']]"
   ],
   "metadata": {
    "collapsed": false,
    "pycharm": {
     "name": "#%%\n"
    }
   }
  },
  {
   "cell_type": "code",
   "execution_count": 56,
   "outputs": [
    {
     "data": {
      "text/plain": "   ClientID                   EmailDomain  DOBMonth  DOBYear  Active  \\\n0        10                      dfsa.com         1     1980     NaN   \n1        18  totalbettingsolutions.com.au         7     1975     NaN   \n2        20                    gmail.com1         4     1988     NaN   \n3      6127                   hotmail.com         2     1970     NaN   \n\n   First Name  Last Name  EMAIL  Mobile  \\\n0         NaN        NaN    NaN     NaN   \n1         NaN        NaN    NaN     NaN   \n2         NaN        NaN    NaN     NaN   \n3         NaN        NaN    NaN     NaN   \n\n                              SURVEY_NAME  \\\n0                              RPX survey   \n1                             LOOT survey   \n2                     Account open survey   \n3  Melbourne Cup Questionnaire 03.11.2021   \n\n                                            QUESTION  \\\n0   Just quickly, where did you first hear about us?   \n1   Just quickly, where did you first hear about us?   \n2  Noted, Thank You â˜º Also, can we  ask how you...   \n3  Thank you! Now first things first, we'd love t...   \n\n                           ANSWER     SUBMISSION_TIME  \n0                through a friend 2021-11-24 23:05:56  \n1                through a friend 2021-11-28 02:26:24  \n2                through a friend 2022-01-25 17:39:02  \n3  through a friend ðŸ‘¯â€â™‚ï¸ 2021-11-03 00:32:04  ",
      "text/html": "<div>\n<style scoped>\n    .dataframe tbody tr th:only-of-type {\n        vertical-align: middle;\n    }\n\n    .dataframe tbody tr th {\n        vertical-align: top;\n    }\n\n    .dataframe thead th {\n        text-align: right;\n    }\n</style>\n<table border=\"1\" class=\"dataframe\">\n  <thead>\n    <tr style=\"text-align: right;\">\n      <th></th>\n      <th>ClientID</th>\n      <th>EmailDomain</th>\n      <th>DOBMonth</th>\n      <th>DOBYear</th>\n      <th>Active</th>\n      <th>First Name</th>\n      <th>Last Name</th>\n      <th>EMAIL</th>\n      <th>Mobile</th>\n      <th>SURVEY_NAME</th>\n      <th>QUESTION</th>\n      <th>ANSWER</th>\n      <th>SUBMISSION_TIME</th>\n    </tr>\n  </thead>\n  <tbody>\n    <tr>\n      <th>0</th>\n      <td>10</td>\n      <td>dfsa.com</td>\n      <td>1</td>\n      <td>1980</td>\n      <td>NaN</td>\n      <td>NaN</td>\n      <td>NaN</td>\n      <td>NaN</td>\n      <td>NaN</td>\n      <td>RPX survey</td>\n      <td>Just quickly, where did you first hear about us?</td>\n      <td>through a friend</td>\n      <td>2021-11-24 23:05:56</td>\n    </tr>\n    <tr>\n      <th>1</th>\n      <td>18</td>\n      <td>totalbettingsolutions.com.au</td>\n      <td>7</td>\n      <td>1975</td>\n      <td>NaN</td>\n      <td>NaN</td>\n      <td>NaN</td>\n      <td>NaN</td>\n      <td>NaN</td>\n      <td>LOOT survey</td>\n      <td>Just quickly, where did you first hear about us?</td>\n      <td>through a friend</td>\n      <td>2021-11-28 02:26:24</td>\n    </tr>\n    <tr>\n      <th>2</th>\n      <td>20</td>\n      <td>gmail.com1</td>\n      <td>4</td>\n      <td>1988</td>\n      <td>NaN</td>\n      <td>NaN</td>\n      <td>NaN</td>\n      <td>NaN</td>\n      <td>NaN</td>\n      <td>Account open survey</td>\n      <td>Noted, Thank You â˜º Also, can we  ask how you...</td>\n      <td>through a friend</td>\n      <td>2022-01-25 17:39:02</td>\n    </tr>\n    <tr>\n      <th>3</th>\n      <td>6127</td>\n      <td>hotmail.com</td>\n      <td>2</td>\n      <td>1970</td>\n      <td>NaN</td>\n      <td>NaN</td>\n      <td>NaN</td>\n      <td>NaN</td>\n      <td>NaN</td>\n      <td>Melbourne Cup Questionnaire 03.11.2021</td>\n      <td>Thank you! Now first things first, we'd love t...</td>\n      <td>through a friend ðŸ‘¯â€â™‚ï¸</td>\n      <td>2021-11-03 00:32:04</td>\n    </tr>\n  </tbody>\n</table>\n</div>"
     },
     "metadata": {},
     "output_type": "display_data"
    }
   ],
   "source": [
    "# Merge the info to fill the blank\n",
    "q1 = pd.merge(info_data, ana, on=['ClientID'])\n",
    "\n",
    "display(q1)\n",
    "\n"
   ],
   "metadata": {
    "collapsed": false,
    "pycharm": {
     "name": "#%%\n"
    }
   }
  },
  {
   "cell_type": "code",
   "execution_count": 72,
   "outputs": [
    {
     "name": "stderr",
     "output_type": "stream",
     "text": [
      "c:\\users\\zhaowang\\onedrive - irpsx pty limited\\desktop\\bettube_project_0\\venv\\lib\\site-packages\\pandas\\io\\sql.py:761: UserWarning: pandas only support SQLAlchemy connectable(engine/connection) ordatabase string URI or sqlite3 DBAPI2 connectionother DBAPI2 objects are not tested, please consider using SQLAlchemy\n",
      "  warnings.warn(\n"
     ]
    },
    {
     "data": {
      "text/plain": "   CLIENTID ResidentialAddress1 ResidentialAddress2 ResidentialSuburb  \\\n0     26241                cook                None   centennial park   \n1     68084        ROBERTSON RD                None   CENTENNIAL PARK   \n\n  ResidentialStateCode  DOBYear  DOBMonth  EmailDomain  \n0                  NSW     1975         1    gmail.com  \n1                  NSW     1975         2  hotmail.com  ",
      "text/html": "<div>\n<style scoped>\n    .dataframe tbody tr th:only-of-type {\n        vertical-align: middle;\n    }\n\n    .dataframe tbody tr th {\n        vertical-align: top;\n    }\n\n    .dataframe thead th {\n        text-align: right;\n    }\n</style>\n<table border=\"1\" class=\"dataframe\">\n  <thead>\n    <tr style=\"text-align: right;\">\n      <th></th>\n      <th>CLIENTID</th>\n      <th>ResidentialAddress1</th>\n      <th>ResidentialAddress2</th>\n      <th>ResidentialSuburb</th>\n      <th>ResidentialStateCode</th>\n      <th>DOBYear</th>\n      <th>DOBMonth</th>\n      <th>EmailDomain</th>\n    </tr>\n  </thead>\n  <tbody>\n    <tr>\n      <th>0</th>\n      <td>26241</td>\n      <td>cook</td>\n      <td>None</td>\n      <td>centennial park</td>\n      <td>NSW</td>\n      <td>1975</td>\n      <td>1</td>\n      <td>gmail.com</td>\n    </tr>\n    <tr>\n      <th>1</th>\n      <td>68084</td>\n      <td>ROBERTSON RD</td>\n      <td>None</td>\n      <td>CENTENNIAL PARK</td>\n      <td>NSW</td>\n      <td>1975</td>\n      <td>2</td>\n      <td>hotmail.com</td>\n    </tr>\n  </tbody>\n</table>\n</div>"
     },
     "execution_count": 72,
     "metadata": {},
     "output_type": "execute_result"
    }
   ],
   "source": [
    "# info searching\n",
    "\n",
    "query = '''\n",
    "SELECT\n",
    "    C.CLIENTID,\n",
    "    C.ResidentialAddress1,\n",
    "    C.ResidentialAddress2,\n",
    "    C.ResidentialSuburb,\n",
    "    C.ResidentialStateCode,\n",
    "    C.DOBYear,\n",
    "    C.DOBMonth,\n",
    "    C.EmailDomain\n",
    "FROM CLIENT AS C WITH (NOLOCK)\n",
    "WHERE C.ARCHIVEPARTITION IN (0,1)\n",
    "    AND ResidentialStateCode = 'NSW'\n",
    "    AND ResidentialSuburb = 'CENTENNIAL PARK'\n",
    "    AND DOBYEAR = 1975\n",
    "\n",
    "OPTION (MAXDOP 1)\n",
    "\n",
    "'''\n",
    "\n",
    "\n",
    "# Send the SQL Query, and record response as a Pandas dataframe.\n",
    "test_sql_query = pd.read_sql_query(query, conn)\n",
    "df_raw_test = pd.DataFrame(test_sql_query)\n",
    "\n",
    "pd.set_option('display.max_columns', None)\n",
    "pd.set_option('display.max_rows', None)\n",
    "df_raw_test.head(100)"
   ],
   "metadata": {
    "collapsed": false,
    "pycharm": {
     "name": "#%%\n"
    }
   }
  },
  {
   "cell_type": "code",
   "execution_count": 84,
   "outputs": [
    {
     "name": "stderr",
     "output_type": "stream",
     "text": [
      "c:\\users\\zhaowang\\onedrive - irpsx pty limited\\desktop\\bettube_project_0\\venv\\lib\\site-packages\\pandas\\io\\sql.py:761: UserWarning: pandas only support SQLAlchemy connectable(engine/connection) ordatabase string URI or sqlite3 DBAPI2 connectionother DBAPI2 objects are not tested, please consider using SQLAlchemy\n",
      "  warnings.warn(\n"
     ]
    },
    {
     "data": {
      "text/plain": "   ArchivePartition  ClientID  AccountRuleID  AccountRuleID  \\\n0                 0     68084              5              5   \n1                 0     68084              6              6   \n2                 0     68084            101            101   \n3                 0     68084            102            102   \n4                 0     68084            889            889   \n5                 0     68084            890            890   \n\n           AccountRule RuleType  \n0      Disable Cashout        A  \n1       Disable Multis        A  \n2  No Marketing Emails        M  \n3   No Marketing Calls        M  \n4     No Marketing SMS        M  \n5           No Bonuses        M  ",
      "text/html": "<div>\n<style scoped>\n    .dataframe tbody tr th:only-of-type {\n        vertical-align: middle;\n    }\n\n    .dataframe tbody tr th {\n        vertical-align: top;\n    }\n\n    .dataframe thead th {\n        text-align: right;\n    }\n</style>\n<table border=\"1\" class=\"dataframe\">\n  <thead>\n    <tr style=\"text-align: right;\">\n      <th></th>\n      <th>ArchivePartition</th>\n      <th>ClientID</th>\n      <th>AccountRuleID</th>\n      <th>AccountRuleID</th>\n      <th>AccountRule</th>\n      <th>RuleType</th>\n    </tr>\n  </thead>\n  <tbody>\n    <tr>\n      <th>0</th>\n      <td>0</td>\n      <td>68084</td>\n      <td>5</td>\n      <td>5</td>\n      <td>Disable Cashout</td>\n      <td>A</td>\n    </tr>\n    <tr>\n      <th>1</th>\n      <td>0</td>\n      <td>68084</td>\n      <td>6</td>\n      <td>6</td>\n      <td>Disable Multis</td>\n      <td>A</td>\n    </tr>\n    <tr>\n      <th>2</th>\n      <td>0</td>\n      <td>68084</td>\n      <td>101</td>\n      <td>101</td>\n      <td>No Marketing Emails</td>\n      <td>M</td>\n    </tr>\n    <tr>\n      <th>3</th>\n      <td>0</td>\n      <td>68084</td>\n      <td>102</td>\n      <td>102</td>\n      <td>No Marketing Calls</td>\n      <td>M</td>\n    </tr>\n    <tr>\n      <th>4</th>\n      <td>0</td>\n      <td>68084</td>\n      <td>889</td>\n      <td>889</td>\n      <td>No Marketing SMS</td>\n      <td>M</td>\n    </tr>\n    <tr>\n      <th>5</th>\n      <td>0</td>\n      <td>68084</td>\n      <td>890</td>\n      <td>890</td>\n      <td>No Bonuses</td>\n      <td>M</td>\n    </tr>\n  </tbody>\n</table>\n</div>"
     },
     "execution_count": 84,
     "metadata": {},
     "output_type": "execute_result"
    }
   ],
   "source": [
    "# info searching\n",
    "\n",
    "query = '''\n",
    "SELECT *\n",
    "FROM RClientAccountRule AS C WITH (NOLOCK)\n",
    "JOIN LAccountRule AS LA WITH (NOLOCK) ON C.AccountRuleID = LA.AccountRuleID\n",
    "WHERE C.ARCHIVEPARTITION IN (0,1)\n",
    "    AND CLIENTID = 68084\n",
    "OPTION (MAXDOP 1)\n",
    "\n",
    "'''\n",
    "\n",
    "\n",
    "# Send the SQL Query, and record response as a Pandas dataframe.\n",
    "test_sql_query = pd.read_sql_query(query, conn)\n",
    "df_raw_test = pd.DataFrame(test_sql_query)\n",
    "\n",
    "pd.set_option('display.max_columns', None)\n",
    "pd.set_option('display.max_rows', None)\n",
    "df_raw_test.head(100)"
   ],
   "metadata": {
    "collapsed": false,
    "pycharm": {
     "name": "#%%\n"
    }
   }
  },
  {
   "cell_type": "code",
   "execution_count": 87,
   "outputs": [
    {
     "name": "stderr",
     "output_type": "stream",
     "text": [
      "c:\\users\\zhaowang\\onedrive - irpsx pty limited\\desktop\\bettube_project_0\\venv\\lib\\site-packages\\pandas\\io\\sql.py:761: UserWarning: pandas only support SQLAlchemy connectable(engine/connection) ordatabase string URI or sqlite3 DBAPI2 connectionother DBAPI2 objects are not tested, please consider using SQLAlchemy\n",
      "  warnings.warn(\n"
     ]
    },
    {
     "data": {
      "text/plain": "   AccountRuleID                      AccountRule RuleType\n0              1                  Disable Betting        A\n1              2               Disable Withdrawal        A\n2              3                  Disable Deposit        A\n3              4     Unverified - Disable Betting        A\n4              5                  Disable Cashout        A\n5              6                   Disable Multis        A\n6              7     Unverified - Disable Deposit        A\n7              8  Remove Cancel Withdrawal Option        A\n8            101              No Marketing Emails        M\n9            102               No Marketing Calls        M",
      "text/html": "<div>\n<style scoped>\n    .dataframe tbody tr th:only-of-type {\n        vertical-align: middle;\n    }\n\n    .dataframe tbody tr th {\n        vertical-align: top;\n    }\n\n    .dataframe thead th {\n        text-align: right;\n    }\n</style>\n<table border=\"1\" class=\"dataframe\">\n  <thead>\n    <tr style=\"text-align: right;\">\n      <th></th>\n      <th>AccountRuleID</th>\n      <th>AccountRule</th>\n      <th>RuleType</th>\n    </tr>\n  </thead>\n  <tbody>\n    <tr>\n      <th>0</th>\n      <td>1</td>\n      <td>Disable Betting</td>\n      <td>A</td>\n    </tr>\n    <tr>\n      <th>1</th>\n      <td>2</td>\n      <td>Disable Withdrawal</td>\n      <td>A</td>\n    </tr>\n    <tr>\n      <th>2</th>\n      <td>3</td>\n      <td>Disable Deposit</td>\n      <td>A</td>\n    </tr>\n    <tr>\n      <th>3</th>\n      <td>4</td>\n      <td>Unverified - Disable Betting</td>\n      <td>A</td>\n    </tr>\n    <tr>\n      <th>4</th>\n      <td>5</td>\n      <td>Disable Cashout</td>\n      <td>A</td>\n    </tr>\n    <tr>\n      <th>5</th>\n      <td>6</td>\n      <td>Disable Multis</td>\n      <td>A</td>\n    </tr>\n    <tr>\n      <th>6</th>\n      <td>7</td>\n      <td>Unverified - Disable Deposit</td>\n      <td>A</td>\n    </tr>\n    <tr>\n      <th>7</th>\n      <td>8</td>\n      <td>Remove Cancel Withdrawal Option</td>\n      <td>A</td>\n    </tr>\n    <tr>\n      <th>8</th>\n      <td>101</td>\n      <td>No Marketing Emails</td>\n      <td>M</td>\n    </tr>\n    <tr>\n      <th>9</th>\n      <td>102</td>\n      <td>No Marketing Calls</td>\n      <td>M</td>\n    </tr>\n  </tbody>\n</table>\n</div>"
     },
     "execution_count": 87,
     "metadata": {},
     "output_type": "execute_result"
    }
   ],
   "source": [
    "# info searching\n",
    "\n",
    "query = '''\n",
    "SELECT TOP(10) *\n",
    "FROM LAccountRule AS C WITH (NOLOCK)\n",
    "OPTION (MAXDOP 1)\n",
    "\n",
    "'''\n",
    "\n",
    "\n",
    "# Send the SQL Query, and record response as a Pandas dataframe.\n",
    "test_sql_query = pd.read_sql_query(query, conn)\n",
    "df_raw_test = pd.DataFrame(test_sql_query)\n",
    "\n",
    "pd.set_option('display.max_columns', None)\n",
    "pd.set_option('display.max_rows', None)\n",
    "df_raw_test.head(100)\n",
    "\n",
    "\n",
    "# print(df_raw_test.head(100))"
   ],
   "metadata": {
    "collapsed": false,
    "pycharm": {
     "name": "#%%\n"
    }
   }
  },
  {
   "cell_type": "markdown",
   "source": [
    "#### SQL query library"
   ],
   "metadata": {
    "collapsed": false,
    "pycharm": {
     "name": "#%% md\n"
    }
   }
  },
  {
   "cell_type": "code",
   "execution_count": 3,
   "outputs": [],
   "source": [],
   "metadata": {
    "collapsed": false,
    "pycharm": {
     "name": "#%%\n"
    }
   }
  },
  {
   "cell_type": "code",
   "execution_count": 4,
   "outputs": [
    {
     "name": "stdout",
     "output_type": "stream",
     "text": [
      "*** Connecting to SQL Server... ***\n",
      "*** Connection Established. ***\n"
     ]
    }
   ],
   "source": [
    "# Testing the SQL query library\n",
    "\n",
    "# Create the instance and initialization.\n",
    "zhao_sql = SqlQueryResult()"
   ],
   "metadata": {
    "collapsed": false,
    "pycharm": {
     "name": "#%%\n"
    }
   }
  },
  {
   "cell_type": "code",
   "execution_count": 5,
   "outputs": [
    {
     "ename": "Exception",
     "evalue": "Error: No Query. Use SqlQueryResult.query(code) or SqlQueryResult.result(code)",
     "output_type": "error",
     "traceback": [
      "\u001B[1;31m---------------------------------------------------------------------------\u001B[0m",
      "\u001B[1;31mException\u001B[0m                                 Traceback (most recent call last)",
      "Input \u001B[1;32mIn [5]\u001B[0m, in \u001B[0;36m<cell line: 2>\u001B[1;34m()\u001B[0m\n\u001B[0;32m      1\u001B[0m \u001B[38;5;66;03m# without query there will be no result\u001B[39;00m\n\u001B[1;32m----> 2\u001B[0m \u001B[43mzhao_sql\u001B[49m\u001B[38;5;241;43m.\u001B[39;49m\u001B[43mresult\u001B[49m\u001B[43m(\u001B[49m\u001B[43m)\u001B[49m\n",
      "File \u001B[1;32m~\\OneDrive - IRPSX Pty Limited\\Desktop\\BetTube_Project_0\\src\\utils\\sqlquerytools.py:52\u001B[0m, in \u001B[0;36mSqlQueryResult.result\u001B[1;34m(self, *args)\u001B[0m\n\u001B[0;32m     50\u001B[0m \u001B[38;5;28;01mif\u001B[39;00m \u001B[38;5;129;01mnot\u001B[39;00m args:\n\u001B[0;32m     51\u001B[0m     \u001B[38;5;28;01mif\u001B[39;00m \u001B[38;5;28misinstance\u001B[39m(\u001B[38;5;28mself\u001B[39m\u001B[38;5;241m.\u001B[39mquery_result, \u001B[38;5;28mstr\u001B[39m):\n\u001B[1;32m---> 52\u001B[0m         \u001B[38;5;28;01mraise\u001B[39;00m \u001B[38;5;167;01mException\u001B[39;00m(\u001B[38;5;124m'\u001B[39m\u001B[38;5;124mError: No Query. Use SqlQueryResult.query(code) or SqlQueryResult.result(code)\u001B[39m\u001B[38;5;124m'\u001B[39m)\n\u001B[0;32m     53\u001B[0m     \u001B[38;5;28;01melse\u001B[39;00m:\n\u001B[0;32m     54\u001B[0m         \u001B[38;5;28;01mreturn\u001B[39;00m \u001B[38;5;28mself\u001B[39m\u001B[38;5;241m.\u001B[39mquery_result\n",
      "\u001B[1;31mException\u001B[0m: Error: No Query. Use SqlQueryResult.query(code) or SqlQueryResult.result(code)"
     ]
    }
   ],
   "source": [
    "# without query there will be no result\n",
    "zhao_sql.result()"
   ],
   "metadata": {
    "collapsed": false,
    "pycharm": {
     "name": "#%%\n"
    }
   }
  },
  {
   "cell_type": "code",
   "execution_count": 6,
   "outputs": [],
   "source": [
    "sql_code = '''\n",
    "SELECT *\n",
    "FROM RClientAccountRule AS C WITH (NOLOCK)\n",
    "JOIN LAccountRule AS LA WITH (NOLOCK) ON C.AccountRuleID = LA.AccountRuleID\n",
    "WHERE C.ARCHIVEPARTITION IN (0,1)\n",
    "    AND CLIENTID = 68084\n",
    "OPTION (MAXDOP 1)\n",
    "'''"
   ],
   "metadata": {
    "collapsed": false,
    "pycharm": {
     "name": "#%%\n"
    }
   }
  },
  {
   "cell_type": "code",
   "execution_count": 7,
   "outputs": [
    {
     "name": "stderr",
     "output_type": "stream",
     "text": [
      "c:\\users\\zhaowang\\onedrive - irpsx pty limited\\desktop\\bettube_project_0\\venv\\lib\\site-packages\\pandas\\io\\sql.py:761: UserWarning: pandas only support SQLAlchemy connectable(engine/connection) ordatabase string URI or sqlite3 DBAPI2 connectionother DBAPI2 objects are not tested, please consider using SQLAlchemy\n",
      "  warnings.warn(\n"
     ]
    },
    {
     "data": {
      "text/plain": "   ArchivePartition  ClientID  AccountRuleID  AccountRuleID  \\\n0                 0     68084              5              5   \n1                 0     68084              6              6   \n2                 0     68084            101            101   \n3                 0     68084            102            102   \n4                 0     68084            889            889   \n5                 0     68084            890            890   \n\n           AccountRule RuleType  \n0      Disable Cashout        A  \n1       Disable Multis        A  \n2  No Marketing Emails        M  \n3   No Marketing Calls        M  \n4     No Marketing SMS        M  \n5           No Bonuses        M  ",
      "text/html": "<div>\n<style scoped>\n    .dataframe tbody tr th:only-of-type {\n        vertical-align: middle;\n    }\n\n    .dataframe tbody tr th {\n        vertical-align: top;\n    }\n\n    .dataframe thead th {\n        text-align: right;\n    }\n</style>\n<table border=\"1\" class=\"dataframe\">\n  <thead>\n    <tr style=\"text-align: right;\">\n      <th></th>\n      <th>ArchivePartition</th>\n      <th>ClientID</th>\n      <th>AccountRuleID</th>\n      <th>AccountRuleID</th>\n      <th>AccountRule</th>\n      <th>RuleType</th>\n    </tr>\n  </thead>\n  <tbody>\n    <tr>\n      <th>0</th>\n      <td>0</td>\n      <td>68084</td>\n      <td>5</td>\n      <td>5</td>\n      <td>Disable Cashout</td>\n      <td>A</td>\n    </tr>\n    <tr>\n      <th>1</th>\n      <td>0</td>\n      <td>68084</td>\n      <td>6</td>\n      <td>6</td>\n      <td>Disable Multis</td>\n      <td>A</td>\n    </tr>\n    <tr>\n      <th>2</th>\n      <td>0</td>\n      <td>68084</td>\n      <td>101</td>\n      <td>101</td>\n      <td>No Marketing Emails</td>\n      <td>M</td>\n    </tr>\n    <tr>\n      <th>3</th>\n      <td>0</td>\n      <td>68084</td>\n      <td>102</td>\n      <td>102</td>\n      <td>No Marketing Calls</td>\n      <td>M</td>\n    </tr>\n    <tr>\n      <th>4</th>\n      <td>0</td>\n      <td>68084</td>\n      <td>889</td>\n      <td>889</td>\n      <td>No Marketing SMS</td>\n      <td>M</td>\n    </tr>\n    <tr>\n      <th>5</th>\n      <td>0</td>\n      <td>68084</td>\n      <td>890</td>\n      <td>890</td>\n      <td>No Bonuses</td>\n      <td>M</td>\n    </tr>\n  </tbody>\n</table>\n</div>"
     },
     "metadata": {},
     "output_type": "display_data"
    }
   ],
   "source": [
    "zhao_sql.query(sql_code)"
   ],
   "metadata": {
    "collapsed": false,
    "pycharm": {
     "name": "#%%\n"
    }
   }
  },
  {
   "cell_type": "code",
   "execution_count": 8,
   "outputs": [
    {
     "data": {
      "text/plain": "   ArchivePartition  ClientID  AccountRuleID  AccountRuleID  \\\n0                 0     68084              5              5   \n1                 0     68084              6              6   \n2                 0     68084            101            101   \n3                 0     68084            102            102   \n4                 0     68084            889            889   \n5                 0     68084            890            890   \n\n           AccountRule RuleType  \n0      Disable Cashout        A  \n1       Disable Multis        A  \n2  No Marketing Emails        M  \n3   No Marketing Calls        M  \n4     No Marketing SMS        M  \n5           No Bonuses        M  ",
      "text/html": "<div>\n<style scoped>\n    .dataframe tbody tr th:only-of-type {\n        vertical-align: middle;\n    }\n\n    .dataframe tbody tr th {\n        vertical-align: top;\n    }\n\n    .dataframe thead th {\n        text-align: right;\n    }\n</style>\n<table border=\"1\" class=\"dataframe\">\n  <thead>\n    <tr style=\"text-align: right;\">\n      <th></th>\n      <th>ArchivePartition</th>\n      <th>ClientID</th>\n      <th>AccountRuleID</th>\n      <th>AccountRuleID</th>\n      <th>AccountRule</th>\n      <th>RuleType</th>\n    </tr>\n  </thead>\n  <tbody>\n    <tr>\n      <th>0</th>\n      <td>0</td>\n      <td>68084</td>\n      <td>5</td>\n      <td>5</td>\n      <td>Disable Cashout</td>\n      <td>A</td>\n    </tr>\n    <tr>\n      <th>1</th>\n      <td>0</td>\n      <td>68084</td>\n      <td>6</td>\n      <td>6</td>\n      <td>Disable Multis</td>\n      <td>A</td>\n    </tr>\n    <tr>\n      <th>2</th>\n      <td>0</td>\n      <td>68084</td>\n      <td>101</td>\n      <td>101</td>\n      <td>No Marketing Emails</td>\n      <td>M</td>\n    </tr>\n    <tr>\n      <th>3</th>\n      <td>0</td>\n      <td>68084</td>\n      <td>102</td>\n      <td>102</td>\n      <td>No Marketing Calls</td>\n      <td>M</td>\n    </tr>\n    <tr>\n      <th>4</th>\n      <td>0</td>\n      <td>68084</td>\n      <td>889</td>\n      <td>889</td>\n      <td>No Marketing SMS</td>\n      <td>M</td>\n    </tr>\n    <tr>\n      <th>5</th>\n      <td>0</td>\n      <td>68084</td>\n      <td>890</td>\n      <td>890</td>\n      <td>No Bonuses</td>\n      <td>M</td>\n    </tr>\n  </tbody>\n</table>\n</div>"
     },
     "metadata": {},
     "output_type": "display_data"
    }
   ],
   "source": [
    "# export last query result\n",
    "q1 = zhao_sql.result()\n",
    "display(q1)"
   ],
   "metadata": {
    "collapsed": false,
    "pycharm": {
     "name": "#%%\n"
    }
   }
  },
  {
   "cell_type": "code",
   "execution_count": 9,
   "outputs": [
    {
     "name": "stderr",
     "output_type": "stream",
     "text": [
      "c:\\users\\zhaowang\\onedrive - irpsx pty limited\\desktop\\bettube_project_0\\venv\\lib\\site-packages\\pandas\\io\\sql.py:761: UserWarning: pandas only support SQLAlchemy connectable(engine/connection) ordatabase string URI or sqlite3 DBAPI2 connectionother DBAPI2 objects are not tested, please consider using SQLAlchemy\n",
      "  warnings.warn(\n"
     ]
    },
    {
     "data": {
      "text/plain": "   AccountRuleID                      AccountRule RuleType\n0              1                  Disable Betting        A\n1              2               Disable Withdrawal        A\n2              3                  Disable Deposit        A\n3              4     Unverified - Disable Betting        A\n4              5                  Disable Cashout        A\n5              6                   Disable Multis        A\n6              7     Unverified - Disable Deposit        A\n7              8  Remove Cancel Withdrawal Option        A\n8            101              No Marketing Emails        M\n9            102               No Marketing Calls        M",
      "text/html": "<div>\n<style scoped>\n    .dataframe tbody tr th:only-of-type {\n        vertical-align: middle;\n    }\n\n    .dataframe tbody tr th {\n        vertical-align: top;\n    }\n\n    .dataframe thead th {\n        text-align: right;\n    }\n</style>\n<table border=\"1\" class=\"dataframe\">\n  <thead>\n    <tr style=\"text-align: right;\">\n      <th></th>\n      <th>AccountRuleID</th>\n      <th>AccountRule</th>\n      <th>RuleType</th>\n    </tr>\n  </thead>\n  <tbody>\n    <tr>\n      <th>0</th>\n      <td>1</td>\n      <td>Disable Betting</td>\n      <td>A</td>\n    </tr>\n    <tr>\n      <th>1</th>\n      <td>2</td>\n      <td>Disable Withdrawal</td>\n      <td>A</td>\n    </tr>\n    <tr>\n      <th>2</th>\n      <td>3</td>\n      <td>Disable Deposit</td>\n      <td>A</td>\n    </tr>\n    <tr>\n      <th>3</th>\n      <td>4</td>\n      <td>Unverified - Disable Betting</td>\n      <td>A</td>\n    </tr>\n    <tr>\n      <th>4</th>\n      <td>5</td>\n      <td>Disable Cashout</td>\n      <td>A</td>\n    </tr>\n    <tr>\n      <th>5</th>\n      <td>6</td>\n      <td>Disable Multis</td>\n      <td>A</td>\n    </tr>\n    <tr>\n      <th>6</th>\n      <td>7</td>\n      <td>Unverified - Disable Deposit</td>\n      <td>A</td>\n    </tr>\n    <tr>\n      <th>7</th>\n      <td>8</td>\n      <td>Remove Cancel Withdrawal Option</td>\n      <td>A</td>\n    </tr>\n    <tr>\n      <th>8</th>\n      <td>101</td>\n      <td>No Marketing Emails</td>\n      <td>M</td>\n    </tr>\n    <tr>\n      <th>9</th>\n      <td>102</td>\n      <td>No Marketing Calls</td>\n      <td>M</td>\n    </tr>\n  </tbody>\n</table>\n</div>"
     },
     "metadata": {},
     "output_type": "display_data"
    }
   ],
   "source": [
    "# direct export query result\n",
    "sql_code2 = '''\n",
    "SELECT TOP(10) *\n",
    "FROM LAccountRule AS C WITH (NOLOCK)\n",
    "OPTION (MAXDOP 1)\n",
    "'''\n",
    "\n",
    "q2 = zhao_sql.result(sql_code2)\n",
    "display(q2)"
   ],
   "metadata": {
    "collapsed": false,
    "pycharm": {
     "name": "#%%\n"
    }
   }
  },
  {
   "cell_type": "code",
   "execution_count": 10,
   "outputs": [
    {
     "name": "stdout",
     "output_type": "stream",
     "text": [
      "*** Connection Closed. ***\n"
     ]
    }
   ],
   "source": [
    "# disconnection\n",
    "zhao_sql.disconnect()"
   ],
   "metadata": {
    "collapsed": false,
    "pycharm": {
     "name": "#%%\n"
    }
   }
  },
  {
   "cell_type": "code",
   "execution_count": 11,
   "outputs": [
    {
     "name": "stdout",
     "output_type": "stream",
     "text": [
      "*** Connecting to SQL Server... ***\n",
      "*** Connection Established. ***\n"
     ]
    }
   ],
   "source": [
    "# reconnect\n",
    "zhao_sql.connect_to_server()"
   ],
   "metadata": {
    "collapsed": false,
    "pycharm": {
     "name": "#%%\n"
    }
   }
  },
  {
   "cell_type": "code",
   "execution_count": 17,
   "outputs": [
    {
     "name": "stdout",
     "output_type": "stream",
     "text": [
      "*** Connection Has Already Been Established. ***\n"
     ]
    }
   ],
   "source": [
    "# zhao_sql.disconnect()\n",
    "# zhao_sql.query(sql_code)\n",
    "zhao_sql.connect_to_server()\n",
    "# q2 = zhao_sql.result(sql_code2)\n",
    "\n"
   ],
   "metadata": {
    "collapsed": false,
    "pycharm": {
     "name": "#%%\n"
    }
   }
  }
 ],
 "metadata": {
  "kernelspec": {
   "display_name": "Python 3",
   "language": "python",
   "name": "python3"
  },
  "language_info": {
   "codemirror_mode": {
    "name": "ipython",
    "version": 2
   },
   "file_extension": ".py",
   "mimetype": "text/x-python",
   "name": "python",
   "nbconvert_exporter": "python",
   "pygments_lexer": "ipython2",
   "version": "2.7.6"
  }
 },
 "nbformat": 4,
 "nbformat_minor": 0
}