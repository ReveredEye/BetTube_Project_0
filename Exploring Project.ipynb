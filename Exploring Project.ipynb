{
 "cells": [
  {
   "cell_type": "markdown",
   "source": [
    "# Exploring Project"
   ],
   "metadata": {
    "collapsed": false,
    "pycharm": {
     "name": "#%% md\n"
    }
   }
  },
  {
   "cell_type": "markdown",
   "source": [
    "#### library import"
   ],
   "metadata": {
    "collapsed": false,
    "pycharm": {
     "name": "#%% md\n"
    }
   }
  },
  {
   "cell_type": "code",
   "execution_count": 1,
   "outputs": [],
   "source": [
    "# import configs\n",
    "from configure import conf\n",
    "# import libraries\n",
    "import pyodbc\n",
    "import pandas as pd\n",
    "import numpy as np\n",
    "\n",
    "import seaborn as sns\n",
    "import matplotlib.pyplot as plt\n",
    "\n",
    "from IPython.core.display_functions import display"
   ],
   "metadata": {
    "collapsed": false,
    "pycharm": {
     "name": "#%%\n"
    }
   }
  },
  {
   "cell_type": "markdown",
   "source": [
    "#### Connection to the server"
   ],
   "metadata": {
    "collapsed": false
   }
  },
  {
   "cell_type": "code",
   "execution_count": 2,
   "outputs": [
    {
     "name": "stdout",
     "output_type": "stream",
     "text": [
      "*** Connecting to SQL Server... ***\n",
      "*** Connection Established. ***\n"
     ]
    }
   ],
   "source": [
    "# Establishing connection to SQL database\n",
    "print('*** Connecting to SQL Server... ***')\n",
    "conn = pyodbc.connect(str(conf.configs['db']))\n",
    "print('*** Connection Established. ***')"
   ],
   "metadata": {
    "collapsed": false,
    "pycharm": {
     "name": "#%%\n"
    }
   }
  },
  {
   "cell_type": "markdown",
   "source": [
    "#### Query the database"
   ],
   "metadata": {
    "collapsed": false,
    "pycharm": {
     "name": "#%% md\n"
    }
   }
  },
  {
   "cell_type": "code",
   "execution_count": 3,
   "outputs": [],
   "source": [
    "# SQL Query that will be sent, response is the table of interest\n",
    "query_str = '''\n",
    "select b.BetID,\n",
    "b.ClientID,\n",
    "b.BetDateTime,\n",
    "b.TotalStake,\n",
    "LCategoryClass.CategoryClass\n",
    "\n",
    "from dbo.Bet as b\n",
    "\n",
    "left join dbo.Client as c on b.ClientID=c.ClientID\n",
    "left join dbo.LVerification as verify on c.VerificationID=verify.VerificationID\n",
    "\n",
    "left join dbo.BetDetail on dbo.BetDetail.BetID=b.BetID\n",
    "left join dbo.[Event] on dbo.BetDetail.EventID=dbo.[Event].EventID\n",
    "\n",
    "left join dbo.LEventClass on dbo.[Event].EventClassID=dbo.LEventClass.EventClassID\n",
    "left join dbo.LMasterEventClass on dbo.LEventClass.MasterEventClassID=dbo.LMasterEventClass.MasterEventClassID\n",
    "left join dbo.LCategoryClass on dbo.LMasterEventClass.CategoryClassID=dbo.LCategoryClass.CategoryClassID\n",
    "\n",
    "where c.IsTest=0 and c.IsBookmaker=0 and verify.IsVerified=1 and b.FreeBetID=0 and dbo.[Event].EventTypeID=1 and dbo.LCategoryClass.CategoryClass LIKE '%NSW%';\n",
    "'''"
   ],
   "metadata": {
    "collapsed": false,
    "pycharm": {
     "name": "#%%\n"
    }
   }
  },
  {
   "cell_type": "code",
   "execution_count": 4,
   "outputs": [
    {
     "name": "stderr",
     "output_type": "stream",
     "text": [
      "c:\\users\\zhaowang\\onedrive - irpsx pty limited\\desktop\\bettube_project_0\\venv\\lib\\site-packages\\pandas\\io\\sql.py:761: UserWarning: pandas only support SQLAlchemy connectable(engine/connection) ordatabase string URI or sqlite3 DBAPI2 connectionother DBAPI2 objects are not tested, please consider using SQLAlchemy\n",
      "  warnings.warn(\n"
     ]
    },
    {
     "data": {
      "text/plain": "           BetID  ClientID             BetDateTime  TotalStake  \\\n0        6266820      6131 2020-01-08 03:29:14.480       300.0   \n1        6310324      6131 2020-01-14 04:34:36.667       100.0   \n2        6315404      6131 2020-01-15 06:47:22.810        50.0   \n3        6411986      6131 2020-01-29 04:26:32.320        50.0   \n4        6525967      6131 2020-02-15 01:15:06.303        50.0   \n...          ...       ...                     ...         ...   \n1415848  6106041     59123 2019-12-14 04:10:47.190        20.0   \n1415849  5584880     59189 2019-10-12 07:03:46.147         5.0   \n1415850  5427431     59191 2019-09-23 06:14:33.960        20.0   \n1415851  5435921     59264 2019-09-25 05:43:34.543        25.0   \n1415852  5464096     59305 2019-09-28 03:33:45.550        50.0   \n\n                    CategoryClass  \n0          NSW Metro Thoroughbred  \n1        NSW Country Thoroughbred  \n2          NSW Metro Thoroughbred  \n3        NSW Country Thoroughbred  \n4          NSW Metro Thoroughbred  \n...                           ...  \n1415848    NSW Metro Thoroughbred  \n1415849    NSW Metro Thoroughbred  \n1415850  NSW Country Thoroughbred  \n1415851    NSW Metro Thoroughbred  \n1415852    NSW Metro Thoroughbred  \n\n[1415853 rows x 5 columns]",
      "text/html": "<div>\n<style scoped>\n    .dataframe tbody tr th:only-of-type {\n        vertical-align: middle;\n    }\n\n    .dataframe tbody tr th {\n        vertical-align: top;\n    }\n\n    .dataframe thead th {\n        text-align: right;\n    }\n</style>\n<table border=\"1\" class=\"dataframe\">\n  <thead>\n    <tr style=\"text-align: right;\">\n      <th></th>\n      <th>BetID</th>\n      <th>ClientID</th>\n      <th>BetDateTime</th>\n      <th>TotalStake</th>\n      <th>CategoryClass</th>\n    </tr>\n  </thead>\n  <tbody>\n    <tr>\n      <th>0</th>\n      <td>6266820</td>\n      <td>6131</td>\n      <td>2020-01-08 03:29:14.480</td>\n      <td>300.0</td>\n      <td>NSW Metro Thoroughbred</td>\n    </tr>\n    <tr>\n      <th>1</th>\n      <td>6310324</td>\n      <td>6131</td>\n      <td>2020-01-14 04:34:36.667</td>\n      <td>100.0</td>\n      <td>NSW Country Thoroughbred</td>\n    </tr>\n    <tr>\n      <th>2</th>\n      <td>6315404</td>\n      <td>6131</td>\n      <td>2020-01-15 06:47:22.810</td>\n      <td>50.0</td>\n      <td>NSW Metro Thoroughbred</td>\n    </tr>\n    <tr>\n      <th>3</th>\n      <td>6411986</td>\n      <td>6131</td>\n      <td>2020-01-29 04:26:32.320</td>\n      <td>50.0</td>\n      <td>NSW Country Thoroughbred</td>\n    </tr>\n    <tr>\n      <th>4</th>\n      <td>6525967</td>\n      <td>6131</td>\n      <td>2020-02-15 01:15:06.303</td>\n      <td>50.0</td>\n      <td>NSW Metro Thoroughbred</td>\n    </tr>\n    <tr>\n      <th>...</th>\n      <td>...</td>\n      <td>...</td>\n      <td>...</td>\n      <td>...</td>\n      <td>...</td>\n    </tr>\n    <tr>\n      <th>1415848</th>\n      <td>6106041</td>\n      <td>59123</td>\n      <td>2019-12-14 04:10:47.190</td>\n      <td>20.0</td>\n      <td>NSW Metro Thoroughbred</td>\n    </tr>\n    <tr>\n      <th>1415849</th>\n      <td>5584880</td>\n      <td>59189</td>\n      <td>2019-10-12 07:03:46.147</td>\n      <td>5.0</td>\n      <td>NSW Metro Thoroughbred</td>\n    </tr>\n    <tr>\n      <th>1415850</th>\n      <td>5427431</td>\n      <td>59191</td>\n      <td>2019-09-23 06:14:33.960</td>\n      <td>20.0</td>\n      <td>NSW Country Thoroughbred</td>\n    </tr>\n    <tr>\n      <th>1415851</th>\n      <td>5435921</td>\n      <td>59264</td>\n      <td>2019-09-25 05:43:34.543</td>\n      <td>25.0</td>\n      <td>NSW Metro Thoroughbred</td>\n    </tr>\n    <tr>\n      <th>1415852</th>\n      <td>5464096</td>\n      <td>59305</td>\n      <td>2019-09-28 03:33:45.550</td>\n      <td>50.0</td>\n      <td>NSW Metro Thoroughbred</td>\n    </tr>\n  </tbody>\n</table>\n<p>1415853 rows × 5 columns</p>\n</div>"
     },
     "metadata": {},
     "output_type": "display_data"
    }
   ],
   "source": [
    "# Send the SQL Query, and record response as a Pandas dataframe.\n",
    "sql_query = pd.read_sql_query(query_str, conn)\n",
    "df_raw = pd.DataFrame(sql_query)\n",
    "\n",
    "pd.set_option(\"display.max_columns\", 8)\n",
    "pd.set_option(\"display.max_rows\", 30)\n",
    "display(df_raw)"
   ],
   "metadata": {
    "collapsed": false,
    "pycharm": {
     "name": "#%%\n"
    }
   }
  },
  {
   "cell_type": "code",
   "execution_count": 5,
   "outputs": [
    {
     "data": {
      "text/plain": "      BetID  ClientID             BetDateTime  TotalStake  \\\n0   6266820      6131 2020-01-08 03:29:14.480       300.0   \n1   6310324      6131 2020-01-14 04:34:36.667       100.0   \n2   6315404      6131 2020-01-15 06:47:22.810        50.0   \n3   6411986      6131 2020-01-29 04:26:32.320        50.0   \n4   6525967      6131 2020-02-15 01:15:06.303        50.0   \n..      ...       ...                     ...         ...   \n95  7873272      6178 2020-05-25 03:02:40.070       100.0   \n96  7962273      6178 2020-05-30 05:09:54.673        50.0   \n97  8070142      6178 2020-06-06 03:09:22.190        50.0   \n98  8072057      6178 2020-06-06 03:44:08.173        70.0   \n99  6889557      6153 2020-03-28 06:02:59.843       100.0   \n\n               CategoryClass  \n0     NSW Metro Thoroughbred  \n1   NSW Country Thoroughbred  \n2     NSW Metro Thoroughbred  \n3   NSW Country Thoroughbred  \n4     NSW Metro Thoroughbred  \n..                       ...  \n95  NSW Country Thoroughbred  \n96    NSW Metro Thoroughbred  \n97    NSW Metro Thoroughbred  \n98    NSW Metro Thoroughbred  \n99    NSW Metro Thoroughbred  \n\n[100 rows x 5 columns]",
      "text/html": "<div>\n<style scoped>\n    .dataframe tbody tr th:only-of-type {\n        vertical-align: middle;\n    }\n\n    .dataframe tbody tr th {\n        vertical-align: top;\n    }\n\n    .dataframe thead th {\n        text-align: right;\n    }\n</style>\n<table border=\"1\" class=\"dataframe\">\n  <thead>\n    <tr style=\"text-align: right;\">\n      <th></th>\n      <th>BetID</th>\n      <th>ClientID</th>\n      <th>BetDateTime</th>\n      <th>TotalStake</th>\n      <th>CategoryClass</th>\n    </tr>\n  </thead>\n  <tbody>\n    <tr>\n      <th>0</th>\n      <td>6266820</td>\n      <td>6131</td>\n      <td>2020-01-08 03:29:14.480</td>\n      <td>300.0</td>\n      <td>NSW Metro Thoroughbred</td>\n    </tr>\n    <tr>\n      <th>1</th>\n      <td>6310324</td>\n      <td>6131</td>\n      <td>2020-01-14 04:34:36.667</td>\n      <td>100.0</td>\n      <td>NSW Country Thoroughbred</td>\n    </tr>\n    <tr>\n      <th>2</th>\n      <td>6315404</td>\n      <td>6131</td>\n      <td>2020-01-15 06:47:22.810</td>\n      <td>50.0</td>\n      <td>NSW Metro Thoroughbred</td>\n    </tr>\n    <tr>\n      <th>3</th>\n      <td>6411986</td>\n      <td>6131</td>\n      <td>2020-01-29 04:26:32.320</td>\n      <td>50.0</td>\n      <td>NSW Country Thoroughbred</td>\n    </tr>\n    <tr>\n      <th>4</th>\n      <td>6525967</td>\n      <td>6131</td>\n      <td>2020-02-15 01:15:06.303</td>\n      <td>50.0</td>\n      <td>NSW Metro Thoroughbred</td>\n    </tr>\n    <tr>\n      <th>...</th>\n      <td>...</td>\n      <td>...</td>\n      <td>...</td>\n      <td>...</td>\n      <td>...</td>\n    </tr>\n    <tr>\n      <th>95</th>\n      <td>7873272</td>\n      <td>6178</td>\n      <td>2020-05-25 03:02:40.070</td>\n      <td>100.0</td>\n      <td>NSW Country Thoroughbred</td>\n    </tr>\n    <tr>\n      <th>96</th>\n      <td>7962273</td>\n      <td>6178</td>\n      <td>2020-05-30 05:09:54.673</td>\n      <td>50.0</td>\n      <td>NSW Metro Thoroughbred</td>\n    </tr>\n    <tr>\n      <th>97</th>\n      <td>8070142</td>\n      <td>6178</td>\n      <td>2020-06-06 03:09:22.190</td>\n      <td>50.0</td>\n      <td>NSW Metro Thoroughbred</td>\n    </tr>\n    <tr>\n      <th>98</th>\n      <td>8072057</td>\n      <td>6178</td>\n      <td>2020-06-06 03:44:08.173</td>\n      <td>70.0</td>\n      <td>NSW Metro Thoroughbred</td>\n    </tr>\n    <tr>\n      <th>99</th>\n      <td>6889557</td>\n      <td>6153</td>\n      <td>2020-03-28 06:02:59.843</td>\n      <td>100.0</td>\n      <td>NSW Metro Thoroughbred</td>\n    </tr>\n  </tbody>\n</table>\n<p>100 rows × 5 columns</p>\n</div>"
     },
     "execution_count": 5,
     "metadata": {},
     "output_type": "execute_result"
    }
   ],
   "source": [
    "df_raw.head(100)"
   ],
   "metadata": {
    "collapsed": false,
    "pycharm": {
     "name": "#%%\n"
    }
   }
  },
  {
   "cell_type": "code",
   "execution_count": 6,
   "outputs": [
    {
     "data": {
      "text/plain": "           BetID  ClientID             BetDateTime  BetYear  TotalStake  \\\n0        6266820      6131 2020-01-08 03:29:14.480     2020       300.0   \n1        6310324      6131 2020-01-14 04:34:36.667     2020       100.0   \n2        6315404      6131 2020-01-15 06:47:22.810     2020        50.0   \n3        6411986      6131 2020-01-29 04:26:32.320     2020        50.0   \n4        6525967      6131 2020-02-15 01:15:06.303     2020        50.0   \n...          ...       ...                     ...      ...         ...   \n1415848  6106041     59123 2019-12-14 04:10:47.190     2019        20.0   \n1415849  5584880     59189 2019-10-12 07:03:46.147     2019         5.0   \n1415850  5427431     59191 2019-09-23 06:14:33.960     2019        20.0   \n1415851  5435921     59264 2019-09-25 05:43:34.543     2019        25.0   \n1415852  5464096     59305 2019-09-28 03:33:45.550     2019        50.0   \n\n                    CategoryClass  \n0          NSW Metro Thoroughbred  \n1        NSW Country Thoroughbred  \n2          NSW Metro Thoroughbred  \n3        NSW Country Thoroughbred  \n4          NSW Metro Thoroughbred  \n...                           ...  \n1415848    NSW Metro Thoroughbred  \n1415849    NSW Metro Thoroughbred  \n1415850  NSW Country Thoroughbred  \n1415851    NSW Metro Thoroughbred  \n1415852    NSW Metro Thoroughbred  \n\n[1196578 rows x 6 columns]",
      "text/html": "<div>\n<style scoped>\n    .dataframe tbody tr th:only-of-type {\n        vertical-align: middle;\n    }\n\n    .dataframe tbody tr th {\n        vertical-align: top;\n    }\n\n    .dataframe thead th {\n        text-align: right;\n    }\n</style>\n<table border=\"1\" class=\"dataframe\">\n  <thead>\n    <tr style=\"text-align: right;\">\n      <th></th>\n      <th>BetID</th>\n      <th>ClientID</th>\n      <th>BetDateTime</th>\n      <th>BetYear</th>\n      <th>TotalStake</th>\n      <th>CategoryClass</th>\n    </tr>\n  </thead>\n  <tbody>\n    <tr>\n      <th>0</th>\n      <td>6266820</td>\n      <td>6131</td>\n      <td>2020-01-08 03:29:14.480</td>\n      <td>2020</td>\n      <td>300.0</td>\n      <td>NSW Metro Thoroughbred</td>\n    </tr>\n    <tr>\n      <th>1</th>\n      <td>6310324</td>\n      <td>6131</td>\n      <td>2020-01-14 04:34:36.667</td>\n      <td>2020</td>\n      <td>100.0</td>\n      <td>NSW Country Thoroughbred</td>\n    </tr>\n    <tr>\n      <th>2</th>\n      <td>6315404</td>\n      <td>6131</td>\n      <td>2020-01-15 06:47:22.810</td>\n      <td>2020</td>\n      <td>50.0</td>\n      <td>NSW Metro Thoroughbred</td>\n    </tr>\n    <tr>\n      <th>3</th>\n      <td>6411986</td>\n      <td>6131</td>\n      <td>2020-01-29 04:26:32.320</td>\n      <td>2020</td>\n      <td>50.0</td>\n      <td>NSW Country Thoroughbred</td>\n    </tr>\n    <tr>\n      <th>4</th>\n      <td>6525967</td>\n      <td>6131</td>\n      <td>2020-02-15 01:15:06.303</td>\n      <td>2020</td>\n      <td>50.0</td>\n      <td>NSW Metro Thoroughbred</td>\n    </tr>\n    <tr>\n      <th>...</th>\n      <td>...</td>\n      <td>...</td>\n      <td>...</td>\n      <td>...</td>\n      <td>...</td>\n      <td>...</td>\n    </tr>\n    <tr>\n      <th>1415848</th>\n      <td>6106041</td>\n      <td>59123</td>\n      <td>2019-12-14 04:10:47.190</td>\n      <td>2019</td>\n      <td>20.0</td>\n      <td>NSW Metro Thoroughbred</td>\n    </tr>\n    <tr>\n      <th>1415849</th>\n      <td>5584880</td>\n      <td>59189</td>\n      <td>2019-10-12 07:03:46.147</td>\n      <td>2019</td>\n      <td>5.0</td>\n      <td>NSW Metro Thoroughbred</td>\n    </tr>\n    <tr>\n      <th>1415850</th>\n      <td>5427431</td>\n      <td>59191</td>\n      <td>2019-09-23 06:14:33.960</td>\n      <td>2019</td>\n      <td>20.0</td>\n      <td>NSW Country Thoroughbred</td>\n    </tr>\n    <tr>\n      <th>1415851</th>\n      <td>5435921</td>\n      <td>59264</td>\n      <td>2019-09-25 05:43:34.543</td>\n      <td>2019</td>\n      <td>25.0</td>\n      <td>NSW Metro Thoroughbred</td>\n    </tr>\n    <tr>\n      <th>1415852</th>\n      <td>5464096</td>\n      <td>59305</td>\n      <td>2019-09-28 03:33:45.550</td>\n      <td>2019</td>\n      <td>50.0</td>\n      <td>NSW Metro Thoroughbred</td>\n    </tr>\n  </tbody>\n</table>\n<p>1196578 rows × 6 columns</p>\n</div>"
     },
     "metadata": {},
     "output_type": "display_data"
    }
   ],
   "source": [
    "df = df_raw.copy()\n",
    "\n",
    "# Create a BetYear column\n",
    "df.insert(3, \"BetYear\", df['BetDateTime'].dt.year, True)\n",
    "\n",
    "# Remove duplicates due to multi's/left-joining(?)\n",
    "df = df.drop_duplicates(['ClientID', 'BetDateTime', 'BetID', 'TotalStake'])\n",
    "\n",
    "# Remove stakes with non-positive values\n",
    "df = df[df[\"TotalStake\"] > 0]\n",
    "\n",
    "display(df)"
   ],
   "metadata": {
    "collapsed": false,
    "pycharm": {
     "name": "#%%\n"
    }
   }
  },
  {
   "cell_type": "code",
   "execution_count": 7,
   "outputs": [
    {
     "name": "stdout",
     "output_type": "stream",
     "text": [
      "NSW Thoroughbred (Racing) Turnover (2019): $ 25552310.12\n",
      "Estimated (25%): $ 6388077.53\n"
     ]
    },
    {
     "data": {
      "text/plain": "BetYear\n2016    6.883862e+06\n2017    3.507139e+07\n2018    2.486363e+07\n2019    2.555231e+07\n2020    1.462236e+07\nName: TotalStake, dtype: float64"
     },
     "metadata": {},
     "output_type": "display_data"
    }
   ],
   "source": [
    "# Determine the TotalStake over 2019\n",
    "\n",
    "df_2019 = df.copy()\n",
    "# take only bets in 2019\n",
    "df_2019 = df_2019[df_2019[\"BetYear\"] == 2019]\n",
    "\n",
    "# Sum up the total stake amounts\n",
    "totalStaked = df_2019[\"TotalStake\"].sum()\n",
    "print(\"NSW Thoroughbred (Racing) Turnover (2019): $\", round(totalStaked, 2))\n",
    "print(\"Estimated (25%): $\", round(totalStaked*0.25, 2))\n",
    "\n",
    "\n",
    "# Total staked by year\n",
    "df_temp = df.copy().groupby([\"BetYear\"])[\"TotalStake\"].sum()\n",
    "display(df_temp)"
   ],
   "metadata": {
    "collapsed": false,
    "pycharm": {
     "name": "#%%\n"
    }
   }
  },
  {
   "cell_type": "markdown",
   "source": [
    "## Explore the database"
   ],
   "metadata": {
    "collapsed": false,
    "pycharm": {
     "name": "#%% md\n"
    }
   }
  },
  {
   "cell_type": "code",
   "execution_count": 19,
   "outputs": [
    {
     "name": "stderr",
     "output_type": "stream",
     "text": [
      "c:\\users\\zhaowang\\onedrive - irpsx pty limited\\desktop\\bettube_project_0\\venv\\lib\\site-packages\\pandas\\io\\sql.py:761: UserWarning: pandas only support SQLAlchemy connectable(engine/connection) ordatabase string URI or sqlite3 DBAPI2 connectionother DBAPI2 objects are not tested, please consider using SQLAlchemy\n",
      "  warnings.warn(\n",
      "C:\\Users\\ZhaoWang\\AppData\\Local\\Temp\\ipykernel_9852\\3081107178.py:26: FutureWarning: null_counts is deprecated. Use show_counts instead\n",
      "  df_raw_test.info(True,null_counts=True)\n"
     ]
    },
    {
     "name": "stdout",
     "output_type": "stream",
     "text": [
      "<class 'pandas.core.frame.DataFrame'>\n",
      "RangeIndex: 100 entries, 0 to 99\n",
      "Data columns (total 36 columns):\n",
      " #   Column                       Non-Null Count  Dtype         \n",
      "---  ------                       --------------  -----         \n",
      " 0   ArchivePartition             100 non-null    int64         \n",
      " 1   ClientID                     100 non-null    int64         \n",
      " 2   OrgID                        100 non-null    int64         \n",
      " 3   AccountNumber                100 non-null    object        \n",
      " 4   Gender                       100 non-null    object        \n",
      " 5   SignupDate                   100 non-null    datetime64[ns]\n",
      " 6   SignupChannelID              100 non-null    int64         \n",
      " 7   IsCreditClient               100 non-null    bool          \n",
      " 8   ClientProfileID              100 non-null    int64         \n",
      " 9   BetInterceptRuleID           100 non-null    int64         \n",
      " 10  IsTest                       100 non-null    bool          \n",
      " 11  IsBookmaker                  100 non-null    bool          \n",
      " 12  PreferredDepositMethodID     0 non-null      object        \n",
      " 13  PreferredWithdrawalMethodID  0 non-null      object        \n",
      " 14  CreditLimit                  89 non-null     float64       \n",
      " 15  LedgerID                     100 non-null    int64         \n",
      " 16  CampaignSignedUpID           98 non-null     float64       \n",
      " 17  AffiliateID                  40 non-null     float64       \n",
      " 18  StatementFrequencyID         100 non-null    int64         \n",
      " 19  VerificationID               100 non-null    int64         \n",
      " 20  ResidentialAddress1          100 non-null    object        \n",
      " 21  ResidentialAddress2          4 non-null      object        \n",
      " 22  ResidentialSuburb            100 non-null    object        \n",
      " 23  ResidentialStateCode         100 non-null    object        \n",
      " 24  ResidentialPostCode          100 non-null    object        \n",
      " 25  ResidentialCountryCode       100 non-null    object        \n",
      " 26  LastPasswordChanged          40 non-null     datetime64[ns]\n",
      " 27  ClientHandlerID              100 non-null    int64         \n",
      " 28  ApproximateNetPosition       63 non-null     float64       \n",
      " 29  LoginFailureCounter          100 non-null    int64         \n",
      " 30  RegionID                     100 non-null    int64         \n",
      " 31  AnniversaryDate              94 non-null     datetime64[ns]\n",
      " 32  AffiliateToken               1 non-null      object        \n",
      " 33  DOBYear                      100 non-null    int64         \n",
      " 34  DOBMonth                     100 non-null    int64         \n",
      " 35  EmailDomain                  100 non-null    object        \n",
      "dtypes: bool(3), datetime64[ns](3), float64(4), int64(14), object(12)\n",
      "memory usage: 26.2+ KB\n"
     ]
    }
   ],
   "source": [
    "query = '''\n",
    "SELECT TOP(100) *\n",
    "FROM CLIENT AS C WITH (NOLOCK)\n",
    "WHERE C.ARCHIVEPARTITION IN (0,1)\n",
    "OPTION (MAXDOP 1)\n",
    "\n",
    "'''\n",
    "\n",
    "X = '''\n",
    "SELECT TOP(100) *\n",
    "FROM CLIENT AS C WITH (NOLOCK)\n",
    "WHERE C.ARCHIVEPARTITION IN (0,1)\n",
    "OPTION (MAXDOP 1)\n",
    "'''\n",
    "\n",
    "\n",
    "\n",
    "# Send the SQL Query, and record response as a Pandas dataframe.\n",
    "test_sql_query = pd.read_sql_query(query, conn)\n",
    "df_raw_test = pd.DataFrame(test_sql_query)\n",
    "\n",
    "pd.set_option('display.max_columns', None)\n",
    "pd.set_option('display.max_rows', None)\n",
    "df_raw_test.head(100)\n",
    "\n",
    "df_raw_test.info(True,null_counts=True)"
   ],
   "metadata": {
    "collapsed": false,
    "pycharm": {
     "name": "#%%\n"
    }
   }
  },
  {
   "cell_type": "code",
   "execution_count": null,
   "outputs": [],
   "source": [],
   "metadata": {
    "collapsed": false,
    "pycharm": {
     "name": "#%%\n"
    }
   }
  },
  {
   "cell_type": "code",
   "execution_count": null,
   "outputs": [],
   "source": [],
   "metadata": {
    "collapsed": false,
    "pycharm": {
     "name": "#%%\n"
    }
   }
  },
  {
   "cell_type": "code",
   "execution_count": null,
   "outputs": [],
   "source": [],
   "metadata": {
    "collapsed": false,
    "pycharm": {
     "name": "#%%\n"
    }
   }
  },
  {
   "cell_type": "code",
   "execution_count": null,
   "outputs": [],
   "source": [],
   "metadata": {
    "collapsed": false,
    "pycharm": {
     "name": "#%%\n"
    }
   }
  },
  {
   "cell_type": "code",
   "execution_count": null,
   "outputs": [],
   "source": [],
   "metadata": {
    "collapsed": false,
    "pycharm": {
     "name": "#%%\n"
    }
   }
  },
  {
   "cell_type": "code",
   "execution_count": null,
   "outputs": [],
   "source": [],
   "metadata": {
    "collapsed": false,
    "pycharm": {
     "name": "#%%\n"
    }
   }
  }
 ],
 "metadata": {
  "kernelspec": {
   "display_name": "Python 3",
   "language": "python",
   "name": "python3"
  },
  "language_info": {
   "codemirror_mode": {
    "name": "ipython",
    "version": 2
   },
   "file_extension": ".py",
   "mimetype": "text/x-python",
   "name": "python",
   "nbconvert_exporter": "python",
   "pygments_lexer": "ipython2",
   "version": "2.7.6"
  }
 },
 "nbformat": 4,
 "nbformat_minor": 0
}